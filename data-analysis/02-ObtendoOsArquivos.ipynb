{
 "cells": [
  {
   "cell_type": "markdown",
   "metadata": {},
   "source": [
    "## Obtendo os arquivos xml e realizando o parse para o Banco de Dados"
   ]
  },
  {
   "cell_type": "code",
   "execution_count": 1,
   "metadata": {
    "collapsed": true
   },
   "outputs": [],
   "source": [
    "import downloadfilesfromTCE as tce\n",
    "from pymongo import MongoClient\n",
    "import os\n"
   ]
  },
  {
   "cell_type": "code",
   "execution_count": 2,
   "metadata": {
    "collapsed": true
   },
   "outputs": [],
   "source": [
    "client = MongoClient('localhost',27017)\n",
    "db = client['dbOpenviz']\n",
    "\n",
    "def save_mongo(dataframe, collection_name=None):\n",
    "    result = db[collection_name].insert_many(dataframe.to_dict(orient='records'))\n",
    "    return result\n",
    "\n",
    "def find_cdIBGE(nmMunicipio = []):\n",
    "    query = {'nmMunicipio' : { '$in': nmMunicipio } }\n",
    "    projection = { '_id' : 0, 'cdIBGE' : 1, 'nmMunicipio': 1}\n",
    "    result = db.municipio.find(query, projection)\n",
    "    return result\n",
    "    "
   ]
  },
  {
   "cell_type": "markdown",
   "metadata": {},
   "source": [
    "### 1) Obtendo os dados do site Transparencia Para Totos"
   ]
  },
  {
   "cell_type": "code",
   "execution_count": 3,
   "metadata": {
    "collapsed": true
   },
   "outputs": [],
   "source": [
    "def obterCodigoMunicipio(nomesMunicipios = []) :\n",
    "    queryResult = find_cdIBGE(municipios)\n",
    "    return queryResult\n"
   ]
  },
  {
   "cell_type": "code",
   "execution_count": 4,
   "metadata": {},
   "outputs": [
    {
     "name": "stdout",
     "output_type": "stream",
     "text": [
      "5\n",
      "13\n"
     ]
    }
   ],
   "source": [
    "anos = ['2013', '2014', '2015', '2016', '2017']\n",
    "municipios = [\n",
    "    'Ponta Grossa',\n",
    "    'Abatiá',\n",
    "    'Siqueira Campos',\n",
    "    'Quatiguá',\n",
    "    'Barra do Jacaré',\n",
    "    'Andirá',\n",
    "    'Cambará',\n",
    "    'Santo Antônio da Platina',\n",
    "    'Jacarezinho',\n",
    "    'Wenceslau Braz',\n",
    "    'Londrina',\n",
    "    'Cornélio Procópio',\n",
    "    'Ibaiti'\n",
    "]\n",
    "\n",
    "print(len(anos))\n",
    "print(len(municipios))"
   ]
  },
  {
   "cell_type": "code",
   "execution_count": 5,
   "metadata": {},
   "outputs": [
    {
     "name": "stdout",
     "output_type": "stream",
     "text": [
      "{'nmMunicipio': 'Abatiá', 'cdIBGE': '4100103'}\n",
      "{'nmMunicipio': 'Andirá', 'cdIBGE': '4101101'}\n",
      "{'nmMunicipio': 'Barra do Jacaré', 'cdIBGE': '4102703'}\n",
      "{'nmMunicipio': 'Cambará', 'cdIBGE': '4103602'}\n",
      "{'nmMunicipio': 'Cornélio Procópio', 'cdIBGE': '4106407'}\n",
      "{'nmMunicipio': 'Ibaiti', 'cdIBGE': '4109708'}\n",
      "{'nmMunicipio': 'Jacarezinho', 'cdIBGE': '4111803'}\n",
      "{'nmMunicipio': 'Londrina', 'cdIBGE': '4113700'}\n",
      "{'nmMunicipio': 'Ponta Grossa', 'cdIBGE': '4119905'}\n",
      "{'nmMunicipio': 'Quatiguá', 'cdIBGE': '4120705'}\n",
      "{'nmMunicipio': 'Santo Antônio da Platina', 'cdIBGE': '4124103'}\n",
      "{'nmMunicipio': 'Siqueira Campos', 'cdIBGE': '4126603'}\n",
      "{'nmMunicipio': 'Wenceslau Braz', 'cdIBGE': '4128500'}\n",
      "13\n"
     ]
    }
   ],
   "source": [
    "resultadoPesquisa = obterCodigoMunicipio(municipios)\n",
    "resultadoPesquisa = list(resultadoPesquisa)\n",
    "m = map(lambda x : x['cdIBGE'], resultadoPesquisa)\n",
    "codMunicipios = list(m)\n",
    "\n",
    "for obj in resultadoPesquisa:\n",
    "    print(obj)\n",
    "\n",
    "print(len(codMunicipios))"
   ]
  },
  {
   "cell_type": "code",
   "execution_count": 6,
   "metadata": {},
   "outputs": [
    {
     "name": "stdout",
     "output_type": "stream",
     "text": [
      "4100103 2013 licitacao\n",
      "4100103 2014 licitacao\n",
      "4100103 2015 licitacao\n",
      "4100103 2016 licitacao\n",
      "4100103 2017 licitacao\n",
      "4101101 2013 licitacao\n",
      "4101101 2014 licitacao\n",
      "4101101 2015 licitacao\n",
      "4101101 2016 licitacao\n",
      "4101101 2017 licitacao\n",
      "4102703 2013 licitacao\n",
      "4102703 2014 licitacao\n",
      "4102703 2015 licitacao\n",
      "4102703 2016 licitacao\n",
      "4102703 2017 licitacao\n",
      "4103602 2013 licitacao\n",
      "4103602 2014 licitacao\n",
      "4103602 2015 licitacao\n",
      "4103602 2016 licitacao\n",
      "4103602 2017 licitacao\n",
      "4106407 2013 licitacao\n",
      "4106407 2014 licitacao\n",
      "4106407 2015 licitacao\n",
      "4106407 2016 licitacao\n",
      "4106407 2017 licitacao\n",
      "4109708 2013 licitacao\n",
      "4109708 2014 licitacao\n",
      "4109708 2015 licitacao\n",
      "4109708 2016 licitacao\n",
      "4109708 2017 licitacao\n",
      "4111803 2013 licitacao\n",
      "4111803 2014 licitacao\n",
      "4111803 2015 licitacao\n",
      "4111803 2016 licitacao\n",
      "4111803 2017 licitacao\n",
      "4113700 2013 licitacao\n",
      "4113700 2014 licitacao\n",
      "4113700 2015 licitacao\n",
      "4113700 2016 licitacao\n",
      "4113700 2017 licitacao\n",
      "4119905 2013 licitacao\n",
      "4119905 2014 licitacao\n",
      "4119905 2015 licitacao\n",
      "4119905 2016 licitacao\n",
      "4119905 2017 licitacao\n",
      "4120705 2013 licitacao\n",
      "4120705 2014 licitacao\n",
      "4120705 2015 licitacao\n",
      "4120705 2016 licitacao\n",
      "4120705 2017 licitacao\n",
      "4124103 2013 licitacao\n",
      "4124103 2014 licitacao\n",
      "4124103 2015 licitacao\n",
      "4124103 2016 licitacao\n",
      "4124103 2017 licitacao\n",
      "4126603 2013 licitacao\n",
      "4126603 2014 licitacao\n",
      "4126603 2015 licitacao\n",
      "4126603 2016 licitacao\n",
      "4126603 2017 licitacao\n",
      "4128500 2013 licitacao\n",
      "4128500 2014 licitacao\n",
      "4128500 2015 licitacao\n",
      "4128500 2016 licitacao\n",
      "4128500 2017 licitacao\n",
      "quantidade:  65\n"
     ]
    }
   ],
   "source": [
    "count = 0\n",
    "for cod in codMunicipios :\n",
    "    for ano in anos :\n",
    "        tce.get_file(cod,ano,'licitacao')\n",
    "        print(cod,ano,'licitacao')\n",
    "        count += 1\n",
    "print('quantidade: ',count)"
   ]
  },
  {
   "cell_type": "code",
   "execution_count": 7,
   "metadata": {},
   "outputs": [
    {
     "name": "stdout",
     "output_type": "stream",
     "text": [
      "extracting... Licitacao_2013_410010.zip\n",
      "extracting... Licitacao_2013_410110.zip\n",
      "extracting... Licitacao_2013_410270.zip\n",
      "extracting... Licitacao_2013_410360.zip\n",
      "extracting... Licitacao_2013_410640.zip\n",
      "extracting... Licitacao_2013_410970.zip\n",
      "extracting... Licitacao_2013_411180.zip\n",
      "extracting... Licitacao_2013_411370.zip\n",
      "extracting... Licitacao_2013_411990.zip\n",
      "extracting... Licitacao_2013_412070.zip\n",
      "extracting... Licitacao_2013_412410.zip\n",
      "extracting... Licitacao_2013_412660.zip\n",
      "extracting... Licitacao_2013_412850.zip\n",
      "extracting... Licitacao_2014_410010.zip\n",
      "extracting... Licitacao_2014_410110.zip\n",
      "extracting... Licitacao_2014_410270.zip\n",
      "extracting... Licitacao_2014_410360.zip\n",
      "extracting... Licitacao_2014_410640.zip\n",
      "extracting... Licitacao_2014_410970.zip\n",
      "extracting... Licitacao_2014_411180.zip\n",
      "extracting... Licitacao_2014_411370.zip\n",
      "extracting... Licitacao_2014_411990.zip\n",
      "extracting... Licitacao_2014_412070.zip\n",
      "extracting... Licitacao_2014_412410.zip\n",
      "extracting... Licitacao_2014_412660.zip\n",
      "extracting... Licitacao_2014_412850.zip\n",
      "extracting... Licitacao_2015_410010.zip\n",
      "extracting... Licitacao_2015_410110.zip\n",
      "extracting... Licitacao_2015_410270.zip\n",
      "extracting... Licitacao_2015_410360.zip\n",
      "extracting... Licitacao_2015_410640.zip\n",
      "extracting... Licitacao_2015_410970.zip\n",
      "extracting... Licitacao_2015_411180.zip\n",
      "extracting... Licitacao_2015_411370.zip\n",
      "extracting... Licitacao_2015_411990.zip\n",
      "extracting... Licitacao_2015_412070.zip\n",
      "extracting... Licitacao_2015_412410.zip\n",
      "extracting... Licitacao_2015_412660.zip\n",
      "extracting... Licitacao_2015_412850.zip\n",
      "extracting... Licitacao_2016_410010.zip\n",
      "extracting... Licitacao_2016_410110.zip\n",
      "extracting... Licitacao_2016_410270.zip\n",
      "extracting... Licitacao_2016_410360.zip\n",
      "extracting... Licitacao_2016_410640.zip\n",
      "extracting... Licitacao_2016_410970.zip\n",
      "extracting... Licitacao_2016_411180.zip\n",
      "extracting... Licitacao_2016_411370.zip\n",
      "extracting... Licitacao_2016_411990.zip\n",
      "extracting... Licitacao_2016_412070.zip\n",
      "extracting... Licitacao_2016_412410.zip\n",
      "extracting... Licitacao_2016_412660.zip\n",
      "extracting... Licitacao_2016_412850.zip\n",
      "extracting... Licitacao_2017_410010.zip\n",
      "extracting... Licitacao_2017_410110.zip\n",
      "extracting... Licitacao_2017_410270.zip\n",
      "extracting... Licitacao_2017_410360.zip\n",
      "extracting... Licitacao_2017_410640.zip\n",
      "extracting... Licitacao_2017_410970.zip\n",
      "extracting... Licitacao_2017_411180.zip\n",
      "extracting... Licitacao_2017_411370.zip\n",
      "extracting... Licitacao_2017_411990.zip\n",
      "extracting... Licitacao_2017_412070.zip\n",
      "extracting... Licitacao_2017_412410.zip\n",
      "extracting... Licitacao_2017_412660.zip\n",
      "extracting... Licitacao_2017_412850.zip\n"
     ]
    }
   ],
   "source": [
    "tce.extract_zip_to('licitacao')"
   ]
  },
  {
   "cell_type": "code",
   "execution_count": 8,
   "metadata": {},
   "outputs": [
    {
     "data": {
      "text/plain": [
       "195"
      ]
     },
     "execution_count": 8,
     "metadata": {},
     "output_type": "execute_result"
    }
   ],
   "source": [
    "diretorio = \"data/licitacao/\"\n",
    "files = os.listdir(diretorio)\n",
    "files = list(map(lambda f : diretorio + f, files))\n",
    "\n",
    "len(files)"
   ]
  },
  {
   "cell_type": "code",
   "execution_count": null,
   "metadata": {
    "collapsed": true
   },
   "outputs": [],
   "source": []
  }
 ],
 "metadata": {
  "kernelspec": {
   "display_name": "Python 3",
   "language": "python",
   "name": "python3"
  },
  "language_info": {
   "codemirror_mode": {
    "name": "ipython",
    "version": 3
   },
   "file_extension": ".py",
   "mimetype": "text/x-python",
   "name": "python",
   "nbconvert_exporter": "python",
   "pygments_lexer": "ipython3",
   "version": "3.6.2"
  }
 },
 "nbformat": 4,
 "nbformat_minor": 2
}
