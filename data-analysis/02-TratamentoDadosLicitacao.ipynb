{
 "cells": [
  {
   "cell_type": "markdown",
   "metadata": {},
   "source": [
    "## Obtendo os arquivos xml e realizando o parse para o Banco de Dados"
   ]
  },
  {
   "cell_type": "code",
   "execution_count": 1,
   "metadata": {
    "collapsed": true
   },
   "outputs": [],
   "source": [
    "import downloadfilesfromTCE as tce\n",
    "from pymongo import MongoClient\n",
    "import os\n"
   ]
  },
  {
   "cell_type": "code",
   "execution_count": 2,
   "metadata": {
    "collapsed": true
   },
   "outputs": [],
   "source": [
    "client = MongoClient('localhost',27017)\n",
    "db = client['db_data_gov']\n",
    "\n",
    "def save_mongo(dataframe, collection_name=None):\n",
    "    result = db[collection_name].insert_many(dataframe.to_dict(orient='records'))\n",
    "    return result\n",
    "\n",
    "def find_cdIBGE(nmMunicipio = []):\n",
    "    query = {'municipio' : { '$in': nmMunicipio } }\n",
    "    projection = { '_id' : 0, 'cdIBGE' : 1}\n",
    "    result = db.municipio.find(query, projection)\n",
    "    return result\n",
    "    "
   ]
  },
  {
   "cell_type": "markdown",
   "metadata": {},
   "source": [
    "### 1) Obtendo os dados do site Transparencia Para Totos"
   ]
  },
  {
   "cell_type": "code",
   "execution_count": 3,
   "metadata": {
    "collapsed": true
   },
   "outputs": [],
   "source": [
    "anos = ['2013', '2014', '2015', '2016', '2017']\n",
    "municipios = [\n",
    "    'Londrina'\n",
    "]"
   ]
  },
  {
   "cell_type": "code",
   "execution_count": 4,
   "metadata": {
    "collapsed": true
   },
   "outputs": [],
   "source": [
    "def obterCodigoMunicipio(nomesMunicipios = []) :\n",
    "    queryResult = find_cdIBGE(municipios)\n",
    "    m = map(lambda x : x['cdIBGE'], queryResult)\n",
    "    return list(m)\n"
   ]
  },
  {
   "cell_type": "code",
   "execution_count": 5,
   "metadata": {},
   "outputs": [
    {
     "name": "stdout",
     "output_type": "stream",
     "text": [
      "4113700 2013 licitacao\n",
      "4113700 2013 licitacao\n",
      "4113700 2014 licitacao\n",
      "4113700 2014 licitacao\n",
      "4113700 2015 licitacao\n",
      "4113700 2015 licitacao\n",
      "4113700 2016 licitacao\n",
      "4113700 2016 licitacao\n",
      "4113700 2017 licitacao\n",
      "4113700 2017 licitacao\n"
     ]
    }
   ],
   "source": [
    "codMunicipios = obterCodigoMunicipio(municipios)\n",
    "\n",
    "for ano in anos :\n",
    "    for cod in codMunicipios :\n",
    "#         tce.get_file(cod,ano,'licitacao')\n",
    "        print(cod,ano,'licitacao')"
   ]
  },
  {
   "cell_type": "code",
   "execution_count": 6,
   "metadata": {},
   "outputs": [
    {
     "name": "stdout",
     "output_type": "stream",
     "text": [
      "extracting... Licitacao_2013_411370.zip\n",
      "extracting... Licitacao_2013_411990.zip\n",
      "extracting... Licitacao_2014_411370.zip\n",
      "extracting... Licitacao_2014_411990.zip\n",
      "extracting... Licitacao_2015_411370.zip\n",
      "extracting... Licitacao_2015_411990.zip\n",
      "extracting... Licitacao_2016_411370.zip\n",
      "extracting... Licitacao_2016_411990.zip\n",
      "extracting... Licitacao_2017_411370.zip\n",
      "extracting... Licitacao_2017_411990.zip\n"
     ]
    }
   ],
   "source": [
    "tce.extract_zip_to('licitacao')"
   ]
  },
  {
   "cell_type": "code",
   "execution_count": 6,
   "metadata": {},
   "outputs": [
    {
     "data": {
      "text/plain": [
       "30"
      ]
     },
     "execution_count": 6,
     "metadata": {},
     "output_type": "execute_result"
    }
   ],
   "source": [
    "diretorio = \"data/licitacao/\"\n",
    "files = os.listdir(diretorio)\n",
    "files = list(map(lambda f : diretorio + f, files))\n",
    "\n",
    "len(files)"
   ]
  },
  {
   "cell_type": "markdown",
   "metadata": {},
   "source": [
    "### 2) Parse dos dado e salvando no MongoDB"
   ]
  },
  {
   "cell_type": "code",
   "execution_count": 7,
   "metadata": {
    "collapsed": true
   },
   "outputs": [],
   "source": []
  },
  {
   "cell_type": "code",
   "execution_count": 8,
   "metadata": {
    "collapsed": true
   },
   "outputs": [],
   "source": []
  },
  {
   "cell_type": "code",
   "execution_count": 9,
   "metadata": {
    "collapsed": true
   },
   "outputs": [],
   "source": []
  },
  {
   "cell_type": "code",
   "execution_count": 10,
   "metadata": {
    "collapsed": true
   },
   "outputs": [],
   "source": []
  },
  {
   "cell_type": "code",
   "execution_count": 11,
   "metadata": {
    "collapsed": true
   },
   "outputs": [],
   "source": []
  },
  {
   "cell_type": "code",
   "execution_count": 12,
   "metadata": {},
   "outputs": [
    {
     "data": {
      "text/plain": [
       "['Licitacao.xml', 'LicitacaoVencedor.xml', 'LicitacaoParticipante.xml']"
      ]
     },
     "execution_count": 12,
     "metadata": {},
     "output_type": "execute_result"
    }
   ],
   "source": []
  },
  {
   "cell_type": "code",
   "execution_count": 13,
   "metadata": {},
   "outputs": [
    {
     "data": {
      "text/plain": [
       "'data/licitacao/2016_411370_LicitacaoVencedor.xml'"
      ]
     },
     "execution_count": 13,
     "metadata": {},
     "output_type": "execute_result"
    }
   ],
   "source": [
    "files[20]"
   ]
  },
  {
   "cell_type": "code",
   "execution_count": 15,
   "metadata": {},
   "outputs": [
    {
     "name": "stdout",
     "output_type": "stream",
     "text": [
      "xmlParseCharRef: invalid xmlChar value 28, line 1, column 10148128 (data/licitacao/2015_411370_LicitacaoVencedor.xml, line 1)\n",
      "XMLSyntaxError occurred  -> using fromXMLAsStringToDataFrame function to process file: \n",
      "data/licitacao/2015_411370_LicitacaoVencedor.xml\n",
      "xmlParseCharRef: invalid xmlChar value 31, line 1, column 6494951 (data/licitacao/2017_411990_LicitacaoVencedor.xml, line 1)\n",
      "XMLSyntaxError occurred  -> using fromXMLAsStringToDataFrame function to process file: \n",
      "data/licitacao/2017_411990_LicitacaoVencedor.xml\n"
     ]
    },
    {
     "data": {
      "text/plain": [
       "True"
      ]
     },
     "execution_count": 15,
     "metadata": {},
     "output_type": "execute_result"
    }
   ],
   "source": []
  },
  {
   "cell_type": "code",
   "execution_count": null,
   "metadata": {
    "collapsed": true
   },
   "outputs": [],
   "source": []
  }
 ],
 "metadata": {
  "kernelspec": {
   "display_name": "Python 3",
   "language": "python",
   "name": "python3"
  },
  "language_info": {
   "codemirror_mode": {
    "name": "ipython",
    "version": 3
   },
   "file_extension": ".py",
   "mimetype": "text/x-python",
   "name": "python",
   "nbconvert_exporter": "python",
   "pygments_lexer": "ipython3",
   "version": "3.6.2"
  }
 },
 "nbformat": 4,
 "nbformat_minor": 2
}
