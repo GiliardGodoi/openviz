{
 "cells": [
  {
   "cell_type": "markdown",
   "metadata": {},
   "source": [
    "## Obtendo os arquivos xml e realizando o parse para o Banco de Dados"
   ]
  },
  {
   "cell_type": "code",
   "execution_count": 1,
   "metadata": {
    "collapsed": true
   },
   "outputs": [],
   "source": [
    "import pandas as pd\n",
    "import numpy as np\n",
    "from lxml import etree as ET\n",
    "from lxml.etree import XMLSyntaxError\n",
    "from pymongo import MongoClient\n",
    "import os\n",
    "import codecs\n",
    "import re\n",
    "\n",
    "import downloadfilesfromTCE as tce"
   ]
  },
  {
   "cell_type": "code",
   "execution_count": 2,
   "metadata": {
    "collapsed": true
   },
   "outputs": [],
   "source": [
    "client = MongoClient('localhost',27017)\n",
    "db = client['db_data_gov']\n",
    "\n",
    "def save_mongo(dataframe, collection_name=None):\n",
    "    result = db[collection_name].insert_many(dataframe.to_dict(orient='records'))\n",
    "    return result\n",
    "\n",
    "def find_cdIBGE(nmMunicipio = []):\n",
    "    query = {'municipio' : { '$in': nmMunicipio } }\n",
    "    projection = { '_id' : 0, 'cdIBGE' : 1}\n",
    "    result = db.municipio.find(query, projection)\n",
    "    return result\n",
    "    "
   ]
  },
  {
   "cell_type": "markdown",
   "metadata": {},
   "source": [
    "### 1) Obtendo os dados do site Transparencia Para Totos"
   ]
  },
  {
   "cell_type": "code",
   "execution_count": 3,
   "metadata": {
    "collapsed": true
   },
   "outputs": [],
   "source": [
    "anos = ['2013', '2014', '2015', '2016', '2017']\n",
    "municipios = [\n",
    "    'Londrina'\n",
    "]"
   ]
  },
  {
   "cell_type": "code",
   "execution_count": 4,
   "metadata": {
    "collapsed": true
   },
   "outputs": [],
   "source": [
    "def obterCodigoMunicipio(nomesMunicipios = []) :\n",
    "    queryResult = find_cdIBGE(municipios)\n",
    "    m = map(lambda x : x['cdIBGE'], queryResult)\n",
    "    return list(m)\n"
   ]
  },
  {
   "cell_type": "code",
   "execution_count": 5,
   "metadata": {},
   "outputs": [
    {
     "name": "stdout",
     "output_type": "stream",
     "text": [
      "4113700 2013 licitacao\n",
      "4113700 2013 licitacao\n",
      "4113700 2014 licitacao\n",
      "4113700 2014 licitacao\n",
      "4113700 2015 licitacao\n",
      "4113700 2015 licitacao\n",
      "4113700 2016 licitacao\n",
      "4113700 2016 licitacao\n",
      "4113700 2017 licitacao\n",
      "4113700 2017 licitacao\n"
     ]
    }
   ],
   "source": [
    "codMunicipios = obterCodigoMunicipio(municipios)\n",
    "\n",
    "for ano in anos :\n",
    "    for cod in codMunicipios :\n",
    "#         tce.get_file(cod,ano,'licitacao')\n",
    "        print(cod,ano,'licitacao')"
   ]
  },
  {
   "cell_type": "code",
   "execution_count": 6,
   "metadata": {},
   "outputs": [
    {
     "name": "stdout",
     "output_type": "stream",
     "text": [
      "extracting... Licitacao_2013_411370.zip\n",
      "extracting... Licitacao_2013_411990.zip\n",
      "extracting... Licitacao_2014_411370.zip\n",
      "extracting... Licitacao_2014_411990.zip\n",
      "extracting... Licitacao_2015_411370.zip\n",
      "extracting... Licitacao_2015_411990.zip\n",
      "extracting... Licitacao_2016_411370.zip\n",
      "extracting... Licitacao_2016_411990.zip\n",
      "extracting... Licitacao_2017_411370.zip\n",
      "extracting... Licitacao_2017_411990.zip\n"
     ]
    }
   ],
   "source": [
    "tce.extract_zip_to('licitacao')"
   ]
  },
  {
   "cell_type": "code",
   "execution_count": 6,
   "metadata": {},
   "outputs": [
    {
     "data": {
      "text/plain": [
       "30"
      ]
     },
     "execution_count": 6,
     "metadata": {},
     "output_type": "execute_result"
    }
   ],
   "source": [
    "diretorio = \"data/licitacao/\"\n",
    "files = os.listdir(diretorio)\n",
    "files = list(map(lambda f : diretorio + f, files))\n",
    "\n",
    "len(files)"
   ]
  },
  {
   "cell_type": "markdown",
   "metadata": {},
   "source": [
    "### 2) Parse dos dado e salvando no MongoDB"
   ]
  },
  {
   "cell_type": "code",
   "execution_count": 7,
   "metadata": {
    "collapsed": true
   },
   "outputs": [],
   "source": [
    "def processRootElement(root):\n",
    "    if root is None:\n",
    "        raise ValueError(\"Parâmetro tree não pode ser nulo\")\n",
    "    count = 0\n",
    "    data = []\n",
    "    for child in root:\n",
    "        data.append(dict(child.attrib))\n",
    "        count += 1\n",
    "    df = pd.DataFrame(data)\n",
    "    return df, count\n",
    "\n",
    "def fromXMLAsStringToDataFrame(filename):\n",
    "    df = None\n",
    "    count = 0\n",
    "    regex = u'[!@#$%¨&*()¬§]' # caracteres especiais a serem eliminados do arquivo\n",
    "    try :\n",
    "        xmlfile = codecs.open(filename,mode='r',encoding='utf-16')\n",
    "        content = xmlfile.read() # estes arquivos geralmente contem todos os registros em uma única linha\n",
    "        content = re.sub(regex,'',content)\n",
    "        root = ET.fromstring(content) # A funcao ET.fromstring retorna um objeto do tipo Element que ja e o proprio root Element\n",
    "        df, count = processRootElement(root) # por isso nao precisamos ja passamos o root Element para a nossa funcao\n",
    "        return df, count\n",
    "    except Exception as ERR :\n",
    "        raise Exception(ERR,'erro em fromXMLAsStringToDataFrame')  \n",
    "\n",
    "def fromXMLtoDataFrame(filename):\n",
    "    df = None\n",
    "    count = 0\n",
    "    try:\n",
    "        tree = ET.parse(filename) # A funcao ET.parse retorna um objeto do tipo ElementTree\n",
    "        df, count = processRootElement(tree.getroot()) # por isso precisamos obter o root Element de tree com .getroot()\n",
    "        return df, count\n",
    "    except XMLSyntaxError as ERR :\n",
    "        print(ERR)\n",
    "        print('XMLSyntaxError occurred  -> using fromXMLAsStringToDataFrame function to process file: ')\n",
    "        print(filename)\n",
    "        df, count = fromXMLAsStringToDataFrame(filename)\n",
    "        return df, count"
   ]
  },
  {
   "cell_type": "code",
   "execution_count": 8,
   "metadata": {
    "collapsed": true
   },
   "outputs": [],
   "source": [
    "'''Função responsável por garantir as conversões '''\n",
    "def parserFromLicitacao(df_licitacao):\n",
    "    casting_dcit = {\n",
    "        'vlLicitacao' : 'float',\n",
    "        'dtAbertura' : 'datetime64[ns]',\n",
    "        'dtEdital' : 'datetime64[ns]',\n",
    "        'dtEnvio' : 'datetime64[ns]',\n",
    "    }\n",
    "    df_licitacao.astype(casting_dcit,copy=False)\n",
    "    \n",
    "    return df_licitacao\n",
    "    "
   ]
  },
  {
   "cell_type": "code",
   "execution_count": 9,
   "metadata": {
    "collapsed": true
   },
   "outputs": [],
   "source": [
    "def parserFromLicitacaoParticipante(df_participante):\n",
    "    return df_participante"
   ]
  },
  {
   "cell_type": "code",
   "execution_count": 10,
   "metadata": {
    "collapsed": true
   },
   "outputs": [],
   "source": [
    "def parserFromLicitacaoVencedor(df_vencedor):\n",
    "    casting = {\n",
    "        'dtHomologacao' : 'datetime64[ns]',\n",
    "        'dtPrazoEntregaPropostaLicitacao' : 'datetime64[ns]',\n",
    "        'dtValidadeProposta' : 'datetime64[ns]',\n",
    "        'nrQuantidade' : 'float',\n",
    "        'nrQuantidadePropostaLicitacao' : 'float',\n",
    "        'nrQuantidadeVencedorLicitacao' : 'float',\n",
    "        'vlLicitacaoVencedorLicitacao' : 'float',\n",
    "        'vlMaximoTotal' : 'float',\n",
    "        'vlMaximoUnitarioitem' : 'float',\n",
    "        'vlMinimoTotal' : 'float',\n",
    "        'vlMinimoUnitarioItem' : 'float',\n",
    "        'vlPropostaItem' : 'float'\n",
    "    }\n",
    "    return df_vencedor.astype(casting,copy=False)"
   ]
  },
  {
   "cell_type": "code",
   "execution_count": 11,
   "metadata": {
    "collapsed": true
   },
   "outputs": [],
   "source": [
    "files_config = {\n",
    "    'Licitacao.xml' : {\n",
    "        'parser' : parserFromLicitacao,\n",
    "        'collection' : 'licitacao'\n",
    "    },\n",
    "    'LicitacaoVencedor.xml' : {\n",
    "        'parser' : parserFromLicitacaoVencedor,\n",
    "        'collection' : 'licitacaoVencedor'\n",
    "    },\n",
    "    'LicitacaoParticipante.xml' : {\n",
    "        'parser' : parserFromLicitacaoParticipante,\n",
    "        'collection' : 'licitacaoParticipante '\n",
    "    }\n",
    "}\n",
    "\n",
    "def determine_file_type(file, f_config=files_config):\n",
    "    index = file.rfind('_')\n",
    "    if index < 0 : \n",
    "        raise Error('Key error')\n",
    "    else :\n",
    "        index += 1\n",
    "        f_type = file[index:]\n",
    "        return f_config[f_type]\n",
    "\n",
    "def files_handler(files = [], saveInMongo = True, saveAsCSV = False):\n",
    "    verificar = []\n",
    "    for filename in files :\n",
    "        config = determine_file_type(filename)\n",
    "        parser = config['parser']\n",
    "        try:\n",
    "            df,qtd = fromXMLtoDataFrame(filename)\n",
    "            df = parser(df)\n",
    "            if saveInMongo:\n",
    "                result = save_mongo(df, collection_name=config['collection'])\n",
    "                if qtd != len(result.inserted_ids):\n",
    "                    verificar.append(filename)\n",
    "            if saveAsCSV :\n",
    "                i = filename.rfind('/') + 1 # garante que i seja pelo menos zero\n",
    "                csvname = filename[i:-4] + '.csv' # exclue o .xml do final do file name\n",
    "                df.to_csv('data/csv/licitacao/'+csvname) # os diretorios data/csv/licitacao ja devem existir\n",
    "        except Exception as ERR:\n",
    "            print(ERR)\n",
    "            print('file name: ',filename)\n",
    "            raise ERR\n",
    "    if verificar :\n",
    "        return verificar\n",
    "    else :\n",
    "        return True\n",
    "        "
   ]
  },
  {
   "cell_type": "code",
   "execution_count": 12,
   "metadata": {},
   "outputs": [
    {
     "data": {
      "text/plain": [
       "['Licitacao.xml', 'LicitacaoVencedor.xml', 'LicitacaoParticipante.xml']"
      ]
     },
     "execution_count": 12,
     "metadata": {},
     "output_type": "execute_result"
    }
   ],
   "source": [
    "files_type = list(files_config.keys())\n",
    "files_type"
   ]
  },
  {
   "cell_type": "code",
   "execution_count": 13,
   "metadata": {},
   "outputs": [
    {
     "data": {
      "text/plain": [
       "'data/licitacao/2016_411370_LicitacaoVencedor.xml'"
      ]
     },
     "execution_count": 13,
     "metadata": {},
     "output_type": "execute_result"
    }
   ],
   "source": [
    "files[20]"
   ]
  },
  {
   "cell_type": "code",
   "execution_count": 15,
   "metadata": {},
   "outputs": [
    {
     "name": "stdout",
     "output_type": "stream",
     "text": [
      "xmlParseCharRef: invalid xmlChar value 28, line 1, column 10148128 (data/licitacao/2015_411370_LicitacaoVencedor.xml, line 1)\n",
      "XMLSyntaxError occurred  -> using fromXMLAsStringToDataFrame function to process file: \n",
      "data/licitacao/2015_411370_LicitacaoVencedor.xml\n",
      "xmlParseCharRef: invalid xmlChar value 31, line 1, column 6494951 (data/licitacao/2017_411990_LicitacaoVencedor.xml, line 1)\n",
      "XMLSyntaxError occurred  -> using fromXMLAsStringToDataFrame function to process file: \n",
      "data/licitacao/2017_411990_LicitacaoVencedor.xml\n"
     ]
    },
    {
     "data": {
      "text/plain": [
       "True"
      ]
     },
     "execution_count": 15,
     "metadata": {},
     "output_type": "execute_result"
    }
   ],
   "source": [
    "files_handler(files, saveInMongo = False, saveAsCSV = True)"
   ]
  },
  {
   "cell_type": "code",
   "execution_count": null,
   "metadata": {
    "collapsed": true
   },
   "outputs": [],
   "source": []
  }
 ],
 "metadata": {
  "kernelspec": {
   "display_name": "Python 3",
   "language": "python",
   "name": "python3"
  },
  "language_info": {
   "codemirror_mode": {
    "name": "ipython",
    "version": 3
   },
   "file_extension": ".py",
   "mimetype": "text/x-python",
   "name": "python",
   "nbconvert_exporter": "python",
   "pygments_lexer": "ipython3",
   "version": "3.6.2"
  }
 },
 "nbformat": 4,
 "nbformat_minor": 2
}
