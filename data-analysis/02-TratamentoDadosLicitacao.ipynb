{
 "cells": [
  {
   "cell_type": "code",
   "execution_count": 1,
   "metadata": {
    "collapsed": true
   },
   "outputs": [],
   "source": [
    "import pandas as pd\n",
    "import numpy as np\n",
    "import xml.etree.ElementTree as ET\n",
    "from pymongo import MongoClient\n",
    "\n",
    "import os\n",
    "\n",
    "import downloadfilesfromTCE as tce"
   ]
  },
  {
   "cell_type": "code",
   "execution_count": 2,
   "metadata": {},
   "outputs": [],
   "source": [
    "client = MongoClient('localhost',27017)\n",
    "db = client['db_data_gov']\n",
    "\n",
    "def save_mongo(dataframe, collection_name=None):\n",
    "    result = db[collection_name].insert_many(dataframe.to_dict(orient='records'))\n",
    "    return result\n",
    "\n",
    "def find_cdIBGE(nmMunicipio = []):\n",
    "    query = {'municipio' : { '$in': nmMunicipio } }\n",
    "    projection = { '_id' : 0, 'cdIBGE' : 1}\n",
    "    result = db.municipio.find(query, projection)\n",
    "    return result\n",
    "    "
   ]
  },
  {
   "cell_type": "markdown",
   "metadata": {},
   "source": [
    "### 1) Obtendo os dados do site Transparencia Para Totos"
   ]
  },
  {
   "cell_type": "code",
   "execution_count": 3,
   "metadata": {
    "collapsed": true
   },
   "outputs": [],
   "source": [
    "anos = ['2013', '2014', '2015', '2016', '2017']\n",
    "municipios = [\n",
    "    'Londrina'\n",
    "]"
   ]
  },
  {
   "cell_type": "code",
   "execution_count": 4,
   "metadata": {
    "collapsed": true
   },
   "outputs": [],
   "source": [
    "def obterCodigoMunicipio(nomesMunicipios = []) :\n",
    "    queryResult = find_cdIBGE(municipios)\n",
    "    m = map(lambda x : x['cdIBGE'], queryResult)\n",
    "    return list(m)\n"
   ]
  },
  {
   "cell_type": "code",
   "execution_count": 5,
   "metadata": {},
   "outputs": [
    {
     "name": "stdout",
     "output_type": "stream",
     "text": [
      "4113700 2013 licitacao\n",
      "4113700 2013 licitacao\n",
      "4113700 2014 licitacao\n",
      "4113700 2014 licitacao\n",
      "4113700 2015 licitacao\n",
      "4113700 2015 licitacao\n",
      "4113700 2016 licitacao\n",
      "4113700 2016 licitacao\n",
      "4113700 2017 licitacao\n",
      "4113700 2017 licitacao\n"
     ]
    }
   ],
   "source": [
    "codMunicipios = obterCodigoMunicipio(municipios)\n",
    "\n",
    "for ano in anos :\n",
    "    for cod in codMunicipios :\n",
    "#         tce.get_file(cod,ano,'licitacao')\n",
    "        print(cod,ano,'licitacao')"
   ]
  },
  {
   "cell_type": "code",
   "execution_count": null,
   "metadata": {},
   "outputs": [],
   "source": [
    "tce.extract_zip_to('licitacao')"
   ]
  },
  {
   "cell_type": "code",
   "execution_count": 6,
   "metadata": {},
   "outputs": [
    {
     "data": {
      "text/plain": [
       "30"
      ]
     },
     "execution_count": 6,
     "metadata": {},
     "output_type": "execute_result"
    }
   ],
   "source": [
    "diretorio = \"data/licitacao/\"\n",
    "files = os.listdir(diretorio)\n",
    "files = list(map(lambda f : diretorio + f, files))\n",
    "\n",
    "len(files)"
   ]
  },
  {
   "cell_type": "markdown",
   "metadata": {},
   "source": [
    "### 2) Parse dos dado e salvando no MongoDB"
   ]
  },
  {
   "cell_type": "code",
   "execution_count": 24,
   "metadata": {
    "collapsed": true
   },
   "outputs": [],
   "source": [
    "def fromXMLtoDataFrame(filename):\n",
    "    xml = ET.parse(filename)\n",
    "    root = xml.getroot()\n",
    "    data = []\n",
    "    count = 0\n",
    "    for child in root :\n",
    "        data.append(child.attrib)\n",
    "        count += 1\n",
    "    df = pd.DataFrame(data)\n",
    "    return df, count"
   ]
  },
  {
   "cell_type": "code",
   "execution_count": 8,
   "metadata": {},
   "outputs": [],
   "source": [
    "'''Função responsável por garantir as conversões '''\n",
    "def parserFromLicitacao(df_licitacao):\n",
    "    casting_dcit = {\n",
    "        'vlLicitacao' : 'float',\n",
    "        'dtAbertura' : 'datetime64[ns]',\n",
    "        'dtEdital' : 'datetime64[ns]',\n",
    "        'dtEnvio' : 'datetime64[ns]',\n",
    "    }\n",
    "    df_licitacao.astype(casting_dcit,copy=False)\n",
    "    \n",
    "    return df_licitacao\n",
    "    "
   ]
  },
  {
   "cell_type": "code",
   "execution_count": 9,
   "metadata": {
    "collapsed": true
   },
   "outputs": [],
   "source": [
    "def parserFromLicitacaoParticipante(df_participante):\n",
    "    return df_participante"
   ]
  },
  {
   "cell_type": "code",
   "execution_count": 10,
   "metadata": {
    "collapsed": true
   },
   "outputs": [],
   "source": [
    "def parserFromLicitacaoVencedor(df_vencedor):\n",
    "    casting = {\n",
    "        'dtHomologacao' : 'datetime64[ns]',\n",
    "        'dtPrazoEntregaPropostaLicitacao' : 'datetime64[ns]',\n",
    "        'dtValidadeProposta' : 'datetime64[ns]',\n",
    "        'nrQuantidade' : 'float',\n",
    "        'nrQuantidadePropostaLicitacao' : 'float',\n",
    "        'nrQuantidadeVencedorLicitacao' : 'float',\n",
    "        'vlLicitacaoVencedorLicitacao' : 'float',\n",
    "        'vlMaximoTotal' : 'float',\n",
    "        'vlMaximoUnitarioitem' : 'float',\n",
    "        'vlMinimoTotal' : 'float',\n",
    "        'vlMinimoUnitarioItem' : 'float',\n",
    "        'vlPropostaItem' : 'float'\n",
    "    }\n",
    "    return df_vencedor.astype(casting,copy=False)"
   ]
  },
  {
   "cell_type": "code",
   "execution_count": 18,
   "metadata": {},
   "outputs": [],
   "source": [
    "files_config = {\n",
    "    'Licitacao.xml' : {\n",
    "        'parser' : parserFromLicitacao,\n",
    "        'collection' : 'licitacao'\n",
    "    },\n",
    "    'LicitacaoVencedor.xml' : {\n",
    "        'parser' : parserFromLicitacaoVencedor,\n",
    "        'collection' : 'licitacaoVencedor'\n",
    "    },\n",
    "    'LicitacaoParticipante.xml' : {\n",
    "        'parser' : parserFromLicitacaoParticipante,\n",
    "        'collection' : 'licitacaoParticipante '\n",
    "    }\n",
    "}\n",
    "\n",
    "def determine_file_type(file, f_config=files_config):\n",
    "    index = file.rfind('_')\n",
    "    if index < 0 : \n",
    "        raise Error('Key error')\n",
    "    else :\n",
    "        index += 1\n",
    "        f_type = file[index:]\n",
    "        return f_config[f_type]\n",
    "\n",
    "def files_handler(files = []):\n",
    "    verificar = []\n",
    "    for filename in files :\n",
    "        config = determine_file_type(filename)\n",
    "        parser = config['parser']\n",
    "        try:\n",
    "            df,qtd = fromXMLtoDataFrame(filename)\n",
    "#             df = parser(df)\n",
    "#             result = save_mongo(df, collection_name=config['collection'])\n",
    "#             if qtd != len(result.inserted_ids):\n",
    "#                 verificar.append(verificar)\n",
    "        except Exception as ERR:\n",
    "            print(ERR)\n",
    "            print('file name: ',filename)\n",
    "    if verificar :\n",
    "        return verificar\n",
    "    else :\n",
    "        return True\n",
    "        "
   ]
  },
  {
   "cell_type": "code",
   "execution_count": 19,
   "metadata": {},
   "outputs": [
    {
     "data": {
      "text/plain": [
       "['Licitacao.xml', 'LicitacaoVencedor.xml', 'LicitacaoParticipante.xml']"
      ]
     },
     "execution_count": 19,
     "metadata": {},
     "output_type": "execute_result"
    }
   ],
   "source": [
    "files_type = list(files_config.keys())\n",
    "files_type"
   ]
  },
  {
   "cell_type": "code",
   "execution_count": 20,
   "metadata": {},
   "outputs": [
    {
     "data": {
      "text/plain": [
       "'data/licitacao/2016_411370_LicitacaoVencedor.xml'"
      ]
     },
     "execution_count": 20,
     "metadata": {},
     "output_type": "execute_result"
    }
   ],
   "source": [
    "files[20]"
   ]
  },
  {
   "cell_type": "code",
   "execution_count": 25,
   "metadata": {},
   "outputs": [
    {
     "name": "stdout",
     "output_type": "stream",
     "text": [
      "reference to invalid character number: line 1, column 10148122\n",
      "file name: \n",
      "data/licitacao/2015_411370_LicitacaoVencedor.xml\n",
      "reference to invalid character number: line 1, column 6494945\n",
      "file name: \n",
      "data/licitacao/2017_411990_LicitacaoVencedor.xml\n"
     ]
    },
    {
     "data": {
      "text/plain": [
       "True"
      ]
     },
     "execution_count": 25,
     "metadata": {},
     "output_type": "execute_result"
    }
   ],
   "source": [
    "files_handler(files)"
   ]
  },
  {
   "cell_type": "code",
   "execution_count": null,
   "metadata": {},
   "outputs": [],
   "source": []
  },
  {
   "cell_type": "code",
   "execution_count": null,
   "metadata": {
    "collapsed": true
   },
   "outputs": [],
   "source": []
  },
  {
   "cell_type": "code",
   "execution_count": null,
   "metadata": {},
   "outputs": [],
   "source": []
  },
  {
   "cell_type": "code",
   "execution_count": null,
   "metadata": {
    "collapsed": true
   },
   "outputs": [],
   "source": []
  }
 ],
 "metadata": {
  "kernelspec": {
   "display_name": "Python 3",
   "language": "python",
   "name": "python3"
  },
  "language_info": {
   "codemirror_mode": {
    "name": "ipython",
    "version": 3
   },
   "file_extension": ".py",
   "mimetype": "text/x-python",
   "name": "python",
   "nbconvert_exporter": "python",
   "pygments_lexer": "ipython3",
   "version": "3.6.2"
  }
 },
 "nbformat": 4,
 "nbformat_minor": 2
}
