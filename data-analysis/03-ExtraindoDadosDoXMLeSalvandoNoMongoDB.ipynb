{
 "cells": [
  {
   "cell_type": "code",
   "execution_count": null,
   "metadata": {
    "collapsed": true
   },
   "outputs": [],
   "source": [
    "import pandas as pd\n",
    "import numpy as np\n",
    "from lxml import etree as ET\n",
    "from lxml.etree import XMLSyntaxError\n",
    "from pymongo import MongoClient\n",
    "import os\n",
    "import codecs\n",
    "import re"
   ]
  },
  {
   "cell_type": "code",
   "execution_count": null,
   "metadata": {
    "collapsed": true
   },
   "outputs": [],
   "source": [
    "client = MongoClient('localhost',27017)\n",
    "db = client['db_data_gov']\n",
    "\n",
    "def save_mongo(dataframe, collection_name=None):\n",
    "    result = db[collection_name].insert_many(dataframe.to_dict(orient='records'))\n",
    "    return result"
   ]
  },
  {
   "cell_type": "code",
   "execution_count": null,
   "metadata": {
    "collapsed": true
   },
   "outputs": [],
   "source": [
    "def processRootElement(root):\n",
    "    if root is None:\n",
    "        raise ValueError(\"Parâmetro tree não pode ser nulo\")\n",
    "    count = 0\n",
    "    data = []\n",
    "    for child in root:\n",
    "        data.append(dict(child.attrib))\n",
    "        count += 1\n",
    "    df = pd.DataFrame(data)\n",
    "    return df, count\n",
    "\n",
    "def fromXMLAsStringToDataFrame(filename):\n",
    "    df = None\n",
    "    count = 0\n",
    "    regex = u'[!@#$%¨&*()¬§]' # caracteres especiais a serem eliminados do arquivo\n",
    "    try :\n",
    "        xmlfile = codecs.open(filename,mode='r',encoding='utf-16')\n",
    "        content = xmlfile.read() # estes arquivos geralmente contem todos os registros em uma única linha\n",
    "        content = re.sub(regex,'',content)\n",
    "        root = ET.fromstring(content) # A funcao ET.fromstring retorna um objeto do tipo Element que ja e o proprio root Element\n",
    "        df, count = processRootElement(root) # por isso nao precisamos ja passamos o root Element para a nossa funcao\n",
    "        return df, count\n",
    "    except Exception as ERR :\n",
    "        raise Exception(ERR,'erro em fromXMLAsStringToDataFrame')  \n",
    "\n",
    "def fromXMLtoDataFrame(filename):\n",
    "    df = None\n",
    "    count = 0\n",
    "    try:\n",
    "        tree = ET.parse(filename) # A funcao ET.parse retorna um objeto do tipo ElementTree\n",
    "        df, count = processRootElement(tree.getroot()) # por isso precisamos obter o root Element de tree com .getroot()\n",
    "        return df, count\n",
    "    except XMLSyntaxError as ERR :\n",
    "        print(ERR)\n",
    "        print('XMLSyntaxError occurred  -> using fromXMLAsStringToDataFrame function to process file: ')\n",
    "        print(filename)\n",
    "        df, count = fromXMLAsStringToDataFrame(filename)\n",
    "        return df, count"
   ]
  },
  {
   "cell_type": "code",
   "execution_count": null,
   "metadata": {
    "collapsed": true
   },
   "outputs": [],
   "source": [
    "'''Função responsável por garantir as conversões '''\n",
    "def parserFromLicitacao(df_licitacao):\n",
    "    casting_dcit = {\n",
    "        'vlLicitacao' : 'float',\n",
    "        'dtAbertura' : 'datetime64[ns]',\n",
    "        'dtEdital' : 'datetime64[ns]',\n",
    "        'dtEnvio' : 'datetime64[ns]',\n",
    "    }\n",
    "    df_licitacao.astype(casting_dcit,copy=False)\n",
    "    \n",
    "    return df_licitacao\n",
    "\n",
    "def parserFromLicitacaoParticipante(df_participante):\n",
    "    return df_participante\n",
    "\n",
    "def parserFromLicitacaoVencedor(df_vencedor):\n",
    "    casting = {\n",
    "        'dtHomologacao' : 'datetime64[ns]',\n",
    "        'dtPrazoEntregaPropostaLicitacao' : 'datetime64[ns]',\n",
    "        'dtValidadeProposta' : 'datetime64[ns]',\n",
    "        'nrQuantidade' : 'float',\n",
    "        'nrQuantidadePropostaLicitacao' : 'float',\n",
    "        'nrQuantidadeVencedorLicitacao' : 'float',\n",
    "        'vlLicitacaoVencedorLicitacao' : 'float',\n",
    "        'vlMaximoTotal' : 'float',\n",
    "        'vlMaximoUnitarioitem' : 'float',\n",
    "        'vlMinimoTotal' : 'float',\n",
    "        'vlMinimoUnitarioItem' : 'float',\n",
    "        'vlPropostaItem' : 'float'\n",
    "    }\n",
    "    return df_vencedor.astype(casting,copy=False)"
   ]
  },
  {
   "cell_type": "code",
   "execution_count": null,
   "metadata": {
    "collapsed": true
   },
   "outputs": [],
   "source": [
    "def determine_file_type(file, f_config=files_config):\n",
    "    index = file.rfind('_')\n",
    "    if index < 0 : \n",
    "        raise Error('Key error')\n",
    "    else :\n",
    "        index += 1\n",
    "        f_type = file[index:]\n",
    "        return f_config[f_type]\n",
    "\n",
    "def files_handler(files = [], saveInMongo = True, saveAsCSV = False):\n",
    "    verificar = []\n",
    "    for filename in files :\n",
    "        config = determine_file_type(filename)\n",
    "        parser = config['parser']\n",
    "        try:\n",
    "            df,qtd = fromXMLtoDataFrame(filename)\n",
    "            df = parser(df)\n",
    "            if saveInMongo:\n",
    "                result = save_mongo(df, collection_name=config['collection'])\n",
    "                if qtd != len(result.inserted_ids):\n",
    "                    verificar.append(filename)\n",
    "            if saveAsCSV :\n",
    "                i = filename.rfind('/') + 1 # garante que i seja pelo menos zero\n",
    "                csvname = filename[i:-4] + '.csv' # exclue o .xml do final do file name\n",
    "                df.to_csv('data/csv/licitacao/'+csvname) # os diretorios data/csv/licitacao ja devem existir\n",
    "        except Exception as ERR:\n",
    "            print(ERR)\n",
    "            print('file name: ',filename)\n",
    "            raise ERR\n",
    "    if verificar :\n",
    "        return verificar\n",
    "    else :\n",
    "        return True\n",
    "        "
   ]
  },
  {
   "cell_type": "code",
   "execution_count": null,
   "metadata": {
    "collapsed": true
   },
   "outputs": [],
   "source": [
    "diretorio = \"data/licitacao/\"\n",
    "files = os.listdir(diretorio)\n",
    "files = list(map(lambda f : diretorio + f, files))\n",
    "\n",
    "len(files)"
   ]
  },
  {
   "cell_type": "code",
   "execution_count": null,
   "metadata": {
    "collapsed": true
   },
   "outputs": [],
   "source": [
    "files_config = {\n",
    "    'Licitacao.xml' : {\n",
    "        'parser' : parserFromLicitacao,\n",
    "        'collection' : 'licitacao'\n",
    "    },\n",
    "    'LicitacaoVencedor.xml' : {\n",
    "        'parser' : parserFromLicitacaoVencedor,\n",
    "        'collection' : 'licitacaoVencedor'\n",
    "    },\n",
    "    'LicitacaoParticipante.xml' : {\n",
    "        'parser' : parserFromLicitacaoParticipante,\n",
    "        'collection' : 'licitacaoParticipante '\n",
    "    }\n",
    "}"
   ]
  },
  {
   "cell_type": "code",
   "execution_count": null,
   "metadata": {
    "collapsed": true
   },
   "outputs": [],
   "source": [
    "list(files_config.keys())"
   ]
  },
  {
   "cell_type": "code",
   "execution_count": null,
   "metadata": {
    "collapsed": true
   },
   "outputs": [],
   "source": [
    "files[20] # exemplo de elemento do array"
   ]
  },
  {
   "cell_type": "code",
   "execution_count": null,
   "metadata": {
    "collapsed": true
   },
   "outputs": [],
   "source": [
    "files_handler(files, saveInMongo = False, saveAsCSV = True)"
   ]
  },
  {
   "cell_type": "code",
   "execution_count": null,
   "metadata": {
    "collapsed": true
   },
   "outputs": [],
   "source": []
  }
 ],
 "metadata": {
  "kernelspec": {
   "display_name": "Python 3",
   "language": "python",
   "name": "python3"
  },
  "language_info": {
   "codemirror_mode": {
    "name": "ipython",
    "version": 3
   },
   "file_extension": ".py",
   "mimetype": "text/x-python",
   "name": "python",
   "nbconvert_exporter": "python",
   "pygments_lexer": "ipython3",
   "version": "3.6.2"
  }
 },
 "nbformat": 4,
 "nbformat_minor": 2
}
