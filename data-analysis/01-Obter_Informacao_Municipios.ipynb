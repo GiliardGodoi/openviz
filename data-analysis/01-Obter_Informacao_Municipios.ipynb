{
 "cells": [
  {
   "cell_type": "code",
   "execution_count": 1,
   "metadata": {
    "collapsed": true
   },
   "outputs": [],
   "source": [
    "import pandas as pd\n",
    "import numpy as np\n",
    "\n",
    "from pymongo import MongoClient"
   ]
  },
  {
   "cell_type": "code",
   "execution_count": 2,
   "metadata": {
    "scrolled": true
   },
   "outputs": [
    {
     "data": {
      "text/html": [
       "<div>\n",
       "<style>\n",
       "    .dataframe thead tr:only-child th {\n",
       "        text-align: right;\n",
       "    }\n",
       "\n",
       "    .dataframe thead th {\n",
       "        text-align: left;\n",
       "    }\n",
       "\n",
       "    .dataframe tbody tr th {\n",
       "        vertical-align: top;\n",
       "    }\n",
       "</style>\n",
       "<table border=\"1\" class=\"dataframe\">\n",
       "  <thead>\n",
       "    <tr style=\"text-align: right;\">\n",
       "      <th></th>\n",
       "      <th>UF</th>\n",
       "      <th>COD. UF</th>\n",
       "      <th>COD. MUNIC</th>\n",
       "      <th>NOME DO MUNICÍPIO</th>\n",
       "      <th>POPULAÇÃO ESTIMADA</th>\n",
       "    </tr>\n",
       "  </thead>\n",
       "  <tbody>\n",
       "    <tr>\n",
       "      <th>0</th>\n",
       "      <td>RO</td>\n",
       "      <td>11</td>\n",
       "      <td>00015</td>\n",
       "      <td>Alta Floresta D'Oeste</td>\n",
       "      <td>25437</td>\n",
       "    </tr>\n",
       "    <tr>\n",
       "      <th>1</th>\n",
       "      <td>RO</td>\n",
       "      <td>11</td>\n",
       "      <td>00023</td>\n",
       "      <td>Ariquemes</td>\n",
       "      <td>107345</td>\n",
       "    </tr>\n",
       "    <tr>\n",
       "      <th>2</th>\n",
       "      <td>RO</td>\n",
       "      <td>11</td>\n",
       "      <td>00031</td>\n",
       "      <td>Cabixi</td>\n",
       "      <td>6224</td>\n",
       "    </tr>\n",
       "    <tr>\n",
       "      <th>3</th>\n",
       "      <td>RO</td>\n",
       "      <td>11</td>\n",
       "      <td>00049</td>\n",
       "      <td>Cacoal</td>\n",
       "      <td>88507</td>\n",
       "    </tr>\n",
       "    <tr>\n",
       "      <th>4</th>\n",
       "      <td>RO</td>\n",
       "      <td>11</td>\n",
       "      <td>00056</td>\n",
       "      <td>Cerejeiras</td>\n",
       "      <td>17934</td>\n",
       "    </tr>\n",
       "  </tbody>\n",
       "</table>\n",
       "</div>"
      ],
      "text/plain": [
       "   UF COD. UF COD. MUNIC      NOME DO MUNICÍPIO POPULAÇÃO ESTIMADA\n",
       "0  RO      11      00015  Alta Floresta D'Oeste              25437\n",
       "1  RO      11      00023              Ariquemes             107345\n",
       "2  RO      11      00031                 Cabixi               6224\n",
       "3  RO      11      00049                 Cacoal              88507\n",
       "4  RO      11      00056             Cerejeiras              17934"
      ]
     },
     "execution_count": 2,
     "metadata": {},
     "output_type": "execute_result"
    }
   ],
   "source": [
    "filename = './data/estimativa_dou_2017.xls'\n",
    "\n",
    "df_populacaoBR = pd.read_excel(filename,sheetname=1,converters={'COD. UF' : str, 'COD. MUNIC' : str})\n",
    "\n",
    "df_populacaoBR.head()"
   ]
  },
  {
   "cell_type": "code",
   "execution_count": 3,
   "metadata": {
    "collapsed": true
   },
   "outputs": [],
   "source": [
    "df_populacaoBR['cdIBGE'] = df_populacaoBR['COD. UF'] + df_populacaoBR['COD. MUNIC']"
   ]
  },
  {
   "cell_type": "code",
   "execution_count": 4,
   "metadata": {},
   "outputs": [
    {
     "data": {
      "text/plain": [
       "Index(['UF', 'COD. UF', 'COD. MUNIC', 'NOME DO MUNICÍPIO',\n",
       "       'POPULAÇÃO ESTIMADA', 'cdIBGE'],\n",
       "      dtype='object')"
      ]
     },
     "execution_count": 4,
     "metadata": {},
     "output_type": "execute_result"
    }
   ],
   "source": [
    "df_populacaoBR.columns"
   ]
  },
  {
   "cell_type": "code",
   "execution_count": 5,
   "metadata": {
    "collapsed": true
   },
   "outputs": [],
   "source": [
    "df_populacaoBR.columns = ['UF', 'cdUF', 'COD. MUNIC', 'municipio', 'populacao', 'cdIBGE']"
   ]
  },
  {
   "cell_type": "code",
   "execution_count": 6,
   "metadata": {},
   "outputs": [
    {
     "data": {
      "text/html": [
       "<div>\n",
       "<style>\n",
       "    .dataframe thead tr:only-child th {\n",
       "        text-align: right;\n",
       "    }\n",
       "\n",
       "    .dataframe thead th {\n",
       "        text-align: left;\n",
       "    }\n",
       "\n",
       "    .dataframe tbody tr th {\n",
       "        vertical-align: top;\n",
       "    }\n",
       "</style>\n",
       "<table border=\"1\" class=\"dataframe\">\n",
       "  <thead>\n",
       "    <tr style=\"text-align: right;\">\n",
       "      <th></th>\n",
       "      <th>UF</th>\n",
       "      <th>cdUF</th>\n",
       "      <th>COD. MUNIC</th>\n",
       "      <th>municipio</th>\n",
       "      <th>populacao</th>\n",
       "      <th>cdIBGE</th>\n",
       "    </tr>\n",
       "  </thead>\n",
       "  <tbody>\n",
       "    <tr>\n",
       "      <th>0</th>\n",
       "      <td>RO</td>\n",
       "      <td>11</td>\n",
       "      <td>00015</td>\n",
       "      <td>Alta Floresta D'Oeste</td>\n",
       "      <td>25437</td>\n",
       "      <td>1100015</td>\n",
       "    </tr>\n",
       "    <tr>\n",
       "      <th>1</th>\n",
       "      <td>RO</td>\n",
       "      <td>11</td>\n",
       "      <td>00023</td>\n",
       "      <td>Ariquemes</td>\n",
       "      <td>107345</td>\n",
       "      <td>1100023</td>\n",
       "    </tr>\n",
       "    <tr>\n",
       "      <th>2</th>\n",
       "      <td>RO</td>\n",
       "      <td>11</td>\n",
       "      <td>00031</td>\n",
       "      <td>Cabixi</td>\n",
       "      <td>6224</td>\n",
       "      <td>1100031</td>\n",
       "    </tr>\n",
       "    <tr>\n",
       "      <th>3</th>\n",
       "      <td>RO</td>\n",
       "      <td>11</td>\n",
       "      <td>00049</td>\n",
       "      <td>Cacoal</td>\n",
       "      <td>88507</td>\n",
       "      <td>1100049</td>\n",
       "    </tr>\n",
       "    <tr>\n",
       "      <th>4</th>\n",
       "      <td>RO</td>\n",
       "      <td>11</td>\n",
       "      <td>00056</td>\n",
       "      <td>Cerejeiras</td>\n",
       "      <td>17934</td>\n",
       "      <td>1100056</td>\n",
       "    </tr>\n",
       "  </tbody>\n",
       "</table>\n",
       "</div>"
      ],
      "text/plain": [
       "   UF cdUF COD. MUNIC              municipio populacao   cdIBGE\n",
       "0  RO   11      00015  Alta Floresta D'Oeste     25437  1100015\n",
       "1  RO   11      00023              Ariquemes    107345  1100023\n",
       "2  RO   11      00031                 Cabixi      6224  1100031\n",
       "3  RO   11      00049                 Cacoal     88507  1100049\n",
       "4  RO   11      00056             Cerejeiras     17934  1100056"
      ]
     },
     "execution_count": 6,
     "metadata": {},
     "output_type": "execute_result"
    }
   ],
   "source": [
    "df_populacaoBR.head()"
   ]
  },
  {
   "cell_type": "code",
   "execution_count": 7,
   "metadata": {},
   "outputs": [
    {
     "data": {
      "text/html": [
       "<div>\n",
       "<style>\n",
       "    .dataframe thead tr:only-child th {\n",
       "        text-align: right;\n",
       "    }\n",
       "\n",
       "    .dataframe thead th {\n",
       "        text-align: left;\n",
       "    }\n",
       "\n",
       "    .dataframe tbody tr th {\n",
       "        vertical-align: top;\n",
       "    }\n",
       "</style>\n",
       "<table border=\"1\" class=\"dataframe\">\n",
       "  <thead>\n",
       "    <tr style=\"text-align: right;\">\n",
       "      <th></th>\n",
       "      <th>UF</th>\n",
       "      <th>cdUF</th>\n",
       "      <th>municipio</th>\n",
       "      <th>populacao</th>\n",
       "      <th>cdIBGE</th>\n",
       "    </tr>\n",
       "  </thead>\n",
       "  <tbody>\n",
       "    <tr>\n",
       "      <th>3912</th>\n",
       "      <td>PR</td>\n",
       "      <td>41</td>\n",
       "      <td>Abatiá</td>\n",
       "      <td>7768</td>\n",
       "      <td>4100103</td>\n",
       "    </tr>\n",
       "    <tr>\n",
       "      <th>3913</th>\n",
       "      <td>PR</td>\n",
       "      <td>41</td>\n",
       "      <td>Adrianópolis</td>\n",
       "      <td>6254</td>\n",
       "      <td>4100202</td>\n",
       "    </tr>\n",
       "    <tr>\n",
       "      <th>3914</th>\n",
       "      <td>PR</td>\n",
       "      <td>41</td>\n",
       "      <td>Agudos do Sul</td>\n",
       "      <td>9161</td>\n",
       "      <td>4100301</td>\n",
       "    </tr>\n",
       "    <tr>\n",
       "      <th>3915</th>\n",
       "      <td>PR</td>\n",
       "      <td>41</td>\n",
       "      <td>Almirante Tamandaré</td>\n",
       "      <td>115364</td>\n",
       "      <td>4100400</td>\n",
       "    </tr>\n",
       "    <tr>\n",
       "      <th>3916</th>\n",
       "      <td>PR</td>\n",
       "      <td>41</td>\n",
       "      <td>Altamira do Paraná</td>\n",
       "      <td>2948</td>\n",
       "      <td>4100459</td>\n",
       "    </tr>\n",
       "  </tbody>\n",
       "</table>\n",
       "</div>"
      ],
      "text/plain": [
       "      UF cdUF            municipio populacao   cdIBGE\n",
       "3912  PR   41               Abatiá      7768  4100103\n",
       "3913  PR   41         Adrianópolis      6254  4100202\n",
       "3914  PR   41        Agudos do Sul      9161  4100301\n",
       "3915  PR   41  Almirante Tamandaré    115364  4100400\n",
       "3916  PR   41   Altamira do Paraná      2948  4100459"
      ]
     },
     "execution_count": 7,
     "metadata": {},
     "output_type": "execute_result"
    }
   ],
   "source": [
    "df_populacaoPR = df_populacaoBR[df_populacaoBR['UF'] == 'PR'][['UF', 'cdUF', 'municipio', 'populacao', 'cdIBGE']]\n",
    "df_populacaoPR.head()"
   ]
  },
  {
   "cell_type": "code",
   "execution_count": 8,
   "metadata": {},
   "outputs": [
    {
     "data": {
      "text/plain": [
       "[{'UF': 'PR',\n",
       "  'cdIBGE': '4124103',\n",
       "  'cdUF': '41',\n",
       "  'municipio': 'Santo Antônio da Platina',\n",
       "  'populacao': 45819},\n",
       " {'UF': 'PR',\n",
       "  'cdIBGE': '4124202',\n",
       "  'cdUF': '41',\n",
       "  'municipio': 'Santo Antônio do Caiuá',\n",
       "  'populacao': 2741}]"
      ]
     },
     "execution_count": 8,
     "metadata": {},
     "output_type": "execute_result"
    }
   ],
   "source": [
    "dict_municipios = df_populacaoPR.to_dict(orient='records')\n",
    "dict_municipios[333]"
   ]
  },
  {
   "cell_type": "code",
   "execution_count": 9,
   "metadata": {
    "collapsed": true
   },
   "outputs": [],
   "source": [
    "client = MongoClient('localhost',27017)\n",
    "db = client['db_data_gov']"
   ]
  },
  {
   "cell_type": "code",
   "execution_count": 10,
   "metadata": {},
   "outputs": [],
   "source": [
    "result = db.municipio.insert_many(dict_municipios)"
   ]
  },
  {
   "cell_type": "code",
   "execution_count": null,
   "metadata": {
    "collapsed": true
   },
   "outputs": [],
   "source": []
  }
 ],
 "metadata": {
  "kernelspec": {
   "display_name": "Python 3",
   "language": "python",
   "name": "python3"
  },
  "language_info": {
   "codemirror_mode": {
    "name": "ipython",
    "version": 3
   },
   "file_extension": ".py",
   "mimetype": "text/x-python",
   "name": "python",
   "nbconvert_exporter": "python",
   "pygments_lexer": "ipython3",
   "version": "3.6.2"
  }
 },
 "nbformat": 4,
 "nbformat_minor": 2
}
